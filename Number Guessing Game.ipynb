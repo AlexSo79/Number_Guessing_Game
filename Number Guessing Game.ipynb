{
 "cells": [
  {
   "cell_type": "code",
   "execution_count": 9,
   "id": "c21612b4",
   "metadata": {},
   "outputs": [
    {
     "name": "stdout",
     "output_type": "stream",
     "text": [
      "Enter any number: 3\n",
      "Too Low\n",
      "Enter number again: 8\n",
      "Too High\n",
      "Enter number again: 5\n",
      "Too Low\n",
      "Enter number again: 6\n",
      "Too Low\n",
      "Enter number again: 7\n",
      "you guess it right!\n"
     ]
    }
   ],
   "source": [
    "import random\n",
    "\n",
    "n = random.randrange(1,20)\n",
    "guess = int(input(\"Enter any number: \"))\n",
    "while n!= guess:\n",
    "    if guess < n:\n",
    "        print(\"Too Low\")\n",
    "        guess = int(input(\"Enter number again: \"))\n",
    "    elif guess > n:\n",
    "        print(\"Too High\")\n",
    "        guess = int(input(\"Enter number again: \"))\n",
    "    else:\n",
    "        break\n",
    "print(\"you guess it right!\")"
   ]
  }
 ],
 "metadata": {
  "kernelspec": {
   "display_name": "Python 3 (ipykernel)",
   "language": "python",
   "name": "python3"
  },
  "language_info": {
   "codemirror_mode": {
    "name": "ipython",
    "version": 3
   },
   "file_extension": ".py",
   "mimetype": "text/x-python",
   "name": "python",
   "nbconvert_exporter": "python",
   "pygments_lexer": "ipython3",
   "version": "3.10.9"
  }
 },
 "nbformat": 4,
 "nbformat_minor": 5
}
